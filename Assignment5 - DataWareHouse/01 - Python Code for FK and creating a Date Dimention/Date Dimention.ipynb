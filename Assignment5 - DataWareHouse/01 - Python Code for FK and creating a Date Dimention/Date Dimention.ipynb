{
 "cells": [
  {
   "cell_type": "code",
   "execution_count": 3,
   "metadata": {},
   "outputs": [],
   "source": [
    "import pandas as pd\n",
    "from datetime import datetime, timedelta"
   ]
  },
  {
   "cell_type": "code",
   "execution_count": 4,
   "metadata": {},
   "outputs": [],
   "source": [
    "# Set the start and end date for your Date dimension table\n",
    "start_date = datetime(2020, 1, 1)\n",
    "end_date = datetime(2025, 12, 31)\n",
    "\n",
    "# Create a list of dates within the specified range\n",
    "date_range = pd.date_range(start_date, end_date, freq='D')\n",
    "\n",
    "# Create a DataFrame for the Date dimension table\n",
    "date_dimension = pd.DataFrame({\n",
    "    'Date': date_range,\n",
    "    'Year': date_range.year,\n",
    "    'Month': date_range.month,\n",
    "    'Day': date_range.day,\n",
    "    'Weekday': date_range.day_name(),\n",
    "    'Quarter': date_range.to_period('Q'),\n",
    "    'Year-Month': date_range.to_period('M'),\n",
    "    'IsWeekend': date_range.dayofweek // 5 == 1,  # 1 for Saturday or Sunday, 0 otherwise\n",
    "    'IsHoliday': False  # You can set this based on your specific holidays\n",
    "})\n",
    "\n",
    "# Add an 'ID' column\n",
    "date_dimension['ID'] = date_dimension.reset_index(drop=True).index + 1\n",
    "\n",
    "# Save the Date dimension table to a CSV file\n",
    "date_dimension.to_csv('Date.csv', index=False)\n"
   ]
  }
 ],
 "metadata": {
  "kernelspec": {
   "display_name": "base",
   "language": "python",
   "name": "python3"
  },
  "language_info": {
   "codemirror_mode": {
    "name": "ipython",
    "version": 3
   },
   "file_extension": ".py",
   "mimetype": "text/x-python",
   "name": "python",
   "nbconvert_exporter": "python",
   "pygments_lexer": "ipython3",
   "version": "3.8.5"
  }
 },
 "nbformat": 4,
 "nbformat_minor": 2
}
