{
 "cells": [
  {
   "cell_type": "code",
   "execution_count": 1,
   "metadata": {},
   "outputs": [],
   "source": [
    "import pandas as pd"
   ]
  },
  {
   "cell_type": "markdown",
   "metadata": {},
   "source": [
    "## Creating Geo Foreign Key"
   ]
  },
  {
   "cell_type": "code",
   "execution_count": 2,
   "metadata": {},
   "outputs": [],
   "source": [
    "# Read the 'sales' CSV file\n",
    "sales_df = pd.read_csv(\"./Fact_Sales.csv\")\n",
    "\n",
    "# Read the 'Geo' CSV file\n",
    "geo_df = pd.read_csv('Geo.csv')\n",
    "\n",
    "# Create a dictionary mapping 'Geo' values to 'ID' values\n",
    "geo_mapping = geo_df.set_index('Geo')['ID'].to_dict()\n",
    "\n",
    "# Replace 'Geo' values in 'sales.csv' with 'ID' values\n",
    "sales_df['Geo_ID'] = sales_df['Geo'].map(geo_mapping)\n",
    "\n",
    "# Drop the original 'Geo' column\n",
    "sales_df = sales_df.drop('Geo', axis=1)"
   ]
  },
  {
   "cell_type": "markdown",
   "metadata": {},
   "source": [
    "## Creating Product Foreign"
   ]
  },
  {
   "cell_type": "code",
   "execution_count": 3,
   "metadata": {},
   "outputs": [],
   "source": [
    "pro_df = pd.read_csv('Product.csv')\n",
    "pro_mapping = pro_df.set_index('Product')['ID'].to_dict()\n",
    "sales_df['Product_ID'] = sales_df['Product'].map(pro_mapping)\n",
    "sales_df = sales_df.drop('Product', axis=1)"
   ]
  },
  {
   "cell_type": "markdown",
   "metadata": {},
   "source": [
    "## Creating Sales Person Foreign"
   ]
  },
  {
   "cell_type": "code",
   "execution_count": 4,
   "metadata": {},
   "outputs": [],
   "source": [
    "sp_df = pd.read_csv('Sales_Person.csv')\n",
    "sp_mapping = sp_df.set_index('Sales person')['ID'].to_dict()\n",
    "sales_df['Sales_Person_ID'] = sales_df['Sales Person'].map(sp_mapping)\n",
    "sales_df = sales_df.drop('Sales Person', axis=1)"
   ]
  },
  {
   "cell_type": "code",
   "execution_count": 5,
   "metadata": {},
   "outputs": [
    {
     "data": {
      "text/html": [
       "<div>\n",
       "<style scoped>\n",
       "    .dataframe tbody tr th:only-of-type {\n",
       "        vertical-align: middle;\n",
       "    }\n",
       "\n",
       "    .dataframe tbody tr th {\n",
       "        vertical-align: top;\n",
       "    }\n",
       "\n",
       "    .dataframe thead th {\n",
       "        text-align: right;\n",
       "    }\n",
       "</style>\n",
       "<table border=\"1\" class=\"dataframe\">\n",
       "  <thead>\n",
       "    <tr style=\"text-align: right;\">\n",
       "      <th></th>\n",
       "      <th>ID</th>\n",
       "      <th>Date</th>\n",
       "      <th>Amount</th>\n",
       "      <th>Customers</th>\n",
       "      <th>Boxes</th>\n",
       "      <th>Geo_ID</th>\n",
       "      <th>Product_ID</th>\n",
       "      <th>Sales_Person_ID</th>\n",
       "    </tr>\n",
       "  </thead>\n",
       "  <tbody>\n",
       "    <tr>\n",
       "      <th>0</th>\n",
       "      <td>1</td>\n",
       "      <td>1/1/2021</td>\n",
       "      <td>$8,414</td>\n",
       "      <td>276</td>\n",
       "      <td>495</td>\n",
       "      <td>4</td>\n",
       "      <td>4</td>\n",
       "      <td>1</td>\n",
       "    </tr>\n",
       "    <tr>\n",
       "      <th>1</th>\n",
       "      <td>2</td>\n",
       "      <td>1/1/2021</td>\n",
       "      <td>$532</td>\n",
       "      <td>317</td>\n",
       "      <td>54</td>\n",
       "      <td>3</td>\n",
       "      <td>14</td>\n",
       "      <td>2</td>\n",
       "    </tr>\n",
       "    <tr>\n",
       "      <th>2</th>\n",
       "      <td>3</td>\n",
       "      <td>1/1/2021</td>\n",
       "      <td>$5,376</td>\n",
       "      <td>178</td>\n",
       "      <td>269</td>\n",
       "      <td>2</td>\n",
       "      <td>8</td>\n",
       "      <td>12</td>\n",
       "    </tr>\n",
       "    <tr>\n",
       "      <th>3</th>\n",
       "      <td>4</td>\n",
       "      <td>1/1/2021</td>\n",
       "      <td>$259</td>\n",
       "      <td>32</td>\n",
       "      <td>22</td>\n",
       "      <td>4</td>\n",
       "      <td>15</td>\n",
       "      <td>1</td>\n",
       "    </tr>\n",
       "    <tr>\n",
       "      <th>4</th>\n",
       "      <td>5</td>\n",
       "      <td>1/1/2021</td>\n",
       "      <td>$5,530</td>\n",
       "      <td>4</td>\n",
       "      <td>179</td>\n",
       "      <td>2</td>\n",
       "      <td>18</td>\n",
       "      <td>19</td>\n",
       "    </tr>\n",
       "  </tbody>\n",
       "</table>\n",
       "</div>"
      ],
      "text/plain": [
       "   ID      Date   Amount  Customers  Boxes  Geo_ID  Product_ID  \\\n",
       "0   1  1/1/2021  $8,414         276    495       4           4   \n",
       "1   2  1/1/2021    $532         317     54       3          14   \n",
       "2   3  1/1/2021  $5,376         178    269       2           8   \n",
       "3   4  1/1/2021    $259          32     22       4          15   \n",
       "4   5  1/1/2021  $5,530           4    179       2          18   \n",
       "\n",
       "   Sales_Person_ID  \n",
       "0                1  \n",
       "1                2  \n",
       "2               12  \n",
       "3                1  \n",
       "4               19  "
      ]
     },
     "execution_count": 5,
     "metadata": {},
     "output_type": "execute_result"
    }
   ],
   "source": [
    "sales_df.head()"
   ]
  },
  {
   "cell_type": "markdown",
   "metadata": {},
   "source": [
    "## Formating the Amount Column"
   ]
  },
  {
   "cell_type": "code",
   "execution_count": 6,
   "metadata": {},
   "outputs": [],
   "source": [
    "# Rename the 'Amount' column to 'Amount ($)'\n",
    "sales_df = sales_df.rename(columns={'Amount': 'Amount ($)'})\n",
    "\n",
    "# Strip the '$' symbol and convert the 'Amount ($)' column to numeric\n",
    "sales_df['Amount ($)'] = sales_df['Amount ($)'].replace('[\\$,]', '', regex=True).astype(float)\n"
   ]
  },
  {
   "cell_type": "markdown",
   "metadata": {},
   "source": [
    "## Formating the Date"
   ]
  },
  {
   "cell_type": "code",
   "execution_count": 7,
   "metadata": {},
   "outputs": [],
   "source": [
    "sales_df['Date'] = pd.to_datetime(sales_df['Date'], format='%m/%d/%Y').dt.strftime('%Y-%m-%d')\n"
   ]
  },
  {
   "cell_type": "code",
   "execution_count": 9,
   "metadata": {},
   "outputs": [
    {
     "data": {
      "text/html": [
       "<div>\n",
       "<style scoped>\n",
       "    .dataframe tbody tr th:only-of-type {\n",
       "        vertical-align: middle;\n",
       "    }\n",
       "\n",
       "    .dataframe tbody tr th {\n",
       "        vertical-align: top;\n",
       "    }\n",
       "\n",
       "    .dataframe thead th {\n",
       "        text-align: right;\n",
       "    }\n",
       "</style>\n",
       "<table border=\"1\" class=\"dataframe\">\n",
       "  <thead>\n",
       "    <tr style=\"text-align: right;\">\n",
       "      <th></th>\n",
       "      <th>ID</th>\n",
       "      <th>Date</th>\n",
       "      <th>Amount ($)</th>\n",
       "      <th>Customers</th>\n",
       "      <th>Boxes</th>\n",
       "      <th>Geo_ID</th>\n",
       "      <th>Product_ID</th>\n",
       "      <th>Sales_Person_ID</th>\n",
       "    </tr>\n",
       "  </thead>\n",
       "  <tbody>\n",
       "    <tr>\n",
       "      <th>0</th>\n",
       "      <td>1</td>\n",
       "      <td>2021-01-01</td>\n",
       "      <td>8414.0</td>\n",
       "      <td>276</td>\n",
       "      <td>495</td>\n",
       "      <td>4</td>\n",
       "      <td>4</td>\n",
       "      <td>1</td>\n",
       "    </tr>\n",
       "    <tr>\n",
       "      <th>1</th>\n",
       "      <td>2</td>\n",
       "      <td>2021-01-01</td>\n",
       "      <td>532.0</td>\n",
       "      <td>317</td>\n",
       "      <td>54</td>\n",
       "      <td>3</td>\n",
       "      <td>14</td>\n",
       "      <td>2</td>\n",
       "    </tr>\n",
       "    <tr>\n",
       "      <th>2</th>\n",
       "      <td>3</td>\n",
       "      <td>2021-01-01</td>\n",
       "      <td>5376.0</td>\n",
       "      <td>178</td>\n",
       "      <td>269</td>\n",
       "      <td>2</td>\n",
       "      <td>8</td>\n",
       "      <td>12</td>\n",
       "    </tr>\n",
       "    <tr>\n",
       "      <th>3</th>\n",
       "      <td>4</td>\n",
       "      <td>2021-01-01</td>\n",
       "      <td>259.0</td>\n",
       "      <td>32</td>\n",
       "      <td>22</td>\n",
       "      <td>4</td>\n",
       "      <td>15</td>\n",
       "      <td>1</td>\n",
       "    </tr>\n",
       "    <tr>\n",
       "      <th>4</th>\n",
       "      <td>5</td>\n",
       "      <td>2021-01-01</td>\n",
       "      <td>5530.0</td>\n",
       "      <td>4</td>\n",
       "      <td>179</td>\n",
       "      <td>2</td>\n",
       "      <td>18</td>\n",
       "      <td>19</td>\n",
       "    </tr>\n",
       "  </tbody>\n",
       "</table>\n",
       "</div>"
      ],
      "text/plain": [
       "   ID        Date  Amount ($)  Customers  Boxes  Geo_ID  Product_ID  \\\n",
       "0   1  2021-01-01      8414.0        276    495       4           4   \n",
       "1   2  2021-01-01       532.0        317     54       3          14   \n",
       "2   3  2021-01-01      5376.0        178    269       2           8   \n",
       "3   4  2021-01-01       259.0         32     22       4          15   \n",
       "4   5  2021-01-01      5530.0          4    179       2          18   \n",
       "\n",
       "   Sales_Person_ID  \n",
       "0                1  \n",
       "1                2  \n",
       "2               12  \n",
       "3                1  \n",
       "4               19  "
      ]
     },
     "execution_count": 9,
     "metadata": {},
     "output_type": "execute_result"
    }
   ],
   "source": [
    "sales_df.head()"
   ]
  },
  {
   "cell_type": "markdown",
   "metadata": {},
   "source": [
    "## Creating the Date Foreign Key"
   ]
  },
  {
   "cell_type": "code",
   "execution_count": 10,
   "metadata": {},
   "outputs": [],
   "source": [
    "date_df = pd.read_csv('Date.csv')\n",
    "date_mapping = date_df.set_index('Date')['ID'].to_dict()\n",
    "sales_df['Date_ID'] = sales_df['Date'].map(date_mapping)\n",
    "sales_df = sales_df.drop('Date', axis=1)"
   ]
  },
  {
   "cell_type": "code",
   "execution_count": 11,
   "metadata": {},
   "outputs": [
    {
     "data": {
      "text/html": [
       "<div>\n",
       "<style scoped>\n",
       "    .dataframe tbody tr th:only-of-type {\n",
       "        vertical-align: middle;\n",
       "    }\n",
       "\n",
       "    .dataframe tbody tr th {\n",
       "        vertical-align: top;\n",
       "    }\n",
       "\n",
       "    .dataframe thead th {\n",
       "        text-align: right;\n",
       "    }\n",
       "</style>\n",
       "<table border=\"1\" class=\"dataframe\">\n",
       "  <thead>\n",
       "    <tr style=\"text-align: right;\">\n",
       "      <th></th>\n",
       "      <th>ID</th>\n",
       "      <th>Amount ($)</th>\n",
       "      <th>Customers</th>\n",
       "      <th>Boxes</th>\n",
       "      <th>Geo_ID</th>\n",
       "      <th>Product_ID</th>\n",
       "      <th>Sales_Person_ID</th>\n",
       "      <th>Date_ID</th>\n",
       "    </tr>\n",
       "  </thead>\n",
       "  <tbody>\n",
       "    <tr>\n",
       "      <th>0</th>\n",
       "      <td>1</td>\n",
       "      <td>8414.0</td>\n",
       "      <td>276</td>\n",
       "      <td>495</td>\n",
       "      <td>4</td>\n",
       "      <td>4</td>\n",
       "      <td>1</td>\n",
       "      <td>367</td>\n",
       "    </tr>\n",
       "    <tr>\n",
       "      <th>1</th>\n",
       "      <td>2</td>\n",
       "      <td>532.0</td>\n",
       "      <td>317</td>\n",
       "      <td>54</td>\n",
       "      <td>3</td>\n",
       "      <td>14</td>\n",
       "      <td>2</td>\n",
       "      <td>367</td>\n",
       "    </tr>\n",
       "    <tr>\n",
       "      <th>2</th>\n",
       "      <td>3</td>\n",
       "      <td>5376.0</td>\n",
       "      <td>178</td>\n",
       "      <td>269</td>\n",
       "      <td>2</td>\n",
       "      <td>8</td>\n",
       "      <td>12</td>\n",
       "      <td>367</td>\n",
       "    </tr>\n",
       "    <tr>\n",
       "      <th>3</th>\n",
       "      <td>4</td>\n",
       "      <td>259.0</td>\n",
       "      <td>32</td>\n",
       "      <td>22</td>\n",
       "      <td>4</td>\n",
       "      <td>15</td>\n",
       "      <td>1</td>\n",
       "      <td>367</td>\n",
       "    </tr>\n",
       "    <tr>\n",
       "      <th>4</th>\n",
       "      <td>5</td>\n",
       "      <td>5530.0</td>\n",
       "      <td>4</td>\n",
       "      <td>179</td>\n",
       "      <td>2</td>\n",
       "      <td>18</td>\n",
       "      <td>19</td>\n",
       "      <td>367</td>\n",
       "    </tr>\n",
       "  </tbody>\n",
       "</table>\n",
       "</div>"
      ],
      "text/plain": [
       "   ID  Amount ($)  Customers  Boxes  Geo_ID  Product_ID  Sales_Person_ID  \\\n",
       "0   1      8414.0        276    495       4           4                1   \n",
       "1   2       532.0        317     54       3          14                2   \n",
       "2   3      5376.0        178    269       2           8               12   \n",
       "3   4       259.0         32     22       4          15                1   \n",
       "4   5      5530.0          4    179       2          18               19   \n",
       "\n",
       "   Date_ID  \n",
       "0      367  \n",
       "1      367  \n",
       "2      367  \n",
       "3      367  \n",
       "4      367  "
      ]
     },
     "execution_count": 11,
     "metadata": {},
     "output_type": "execute_result"
    }
   ],
   "source": [
    "sales_df.head()"
   ]
  },
  {
   "cell_type": "markdown",
   "metadata": {},
   "source": [
    "#### Save the updated DataFrame to a new CSV file\n"
   ]
  },
  {
   "cell_type": "code",
   "execution_count": 12,
   "metadata": {},
   "outputs": [],
   "source": [
    "sales_df.to_csv('Fact_Sales_FV.csv', index=False)"
   ]
  }
 ],
 "metadata": {
  "kernelspec": {
   "display_name": "base",
   "language": "python",
   "name": "python3"
  },
  "language_info": {
   "codemirror_mode": {
    "name": "ipython",
    "version": 3
   },
   "file_extension": ".py",
   "mimetype": "text/x-python",
   "name": "python",
   "nbconvert_exporter": "python",
   "pygments_lexer": "ipython3",
   "version": "3.8.5"
  }
 },
 "nbformat": 4,
 "nbformat_minor": 2
}
